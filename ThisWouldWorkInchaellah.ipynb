{
 "cells": [
  {
   "cell_type": "markdown",
   "metadata": {},
   "source": [
    "Imports"
   ]
  },
  {
   "cell_type": "code",
   "execution_count": 1,
   "metadata": {},
   "outputs": [],
   "source": [
    "import pandas as pd\n",
    "import numpy as np\n",
    "import gurobipy as gp\n",
    "from gurobipy import GRB,quicksum"
   ]
  },
  {
   "cell_type": "markdown",
   "metadata": {},
   "source": [
    "File To Import"
   ]
  },
  {
   "cell_type": "code",
   "execution_count": 2,
   "metadata": {},
   "outputs": [],
   "source": [
    "file = \"D:\\dell\\OneDrive - Université Mohammed VI Polytechnique\\STUDY\\CI1A\\Optimisation\\Projet\\Structure_Modele_Actuelle - small data set - Original.xlsx\""
   ]
  },
  {
   "cell_type": "markdown",
   "metadata": {},
   "source": [
    "Recettes\n"
   ]
  },
  {
   "cell_type": "code",
   "execution_count": 3,
   "metadata": {},
   "outputs": [
    {
     "name": "stdout",
     "output_type": "stream",
     "text": [
      "[('Agadir Ida-Outanane', 'Amandiers'), ('Agadir Ida-Outanane', 'Oliviers'), ('Agadir Ida-Outanane', 'Rosacees'), ('Agadir Ida-Outanane', 'Agrumes'), ('Agadir Ida-Outanane', 'Maraichage'), ('Agadir Ida-Outanane', 'Fourrageres'), ('Agadir Ida-Outanane', 'Cereales'), ('Benslimane', 'Rosacees'), ('Benslimane', 'Oliviers'), ('Benslimane', 'Vignes'), ('Benslimane', 'Maraichage'), ('Benslimane', 'Fourrageres'), ('Benslimane', 'Legumineuses'), ('Benslimane', 'Cereales'), ('Benslimane', 'Oleagineuses'), ('Casablanca', 'Rosacees'), ('Casablanca', 'Oliviers'), ('Casablanca', 'Maraichage'), ('Casablanca', 'Fourrageres'), ('Casablanca', 'Cereales'), ('Casablanca', 'Legumineuses'), ('Chefchaouen', 'Amandiers'), ('Chefchaouen', 'Oliviers'), ('Chefchaouen', 'Vignes'), ('Chefchaouen', 'Rosacees'), ('Chefchaouen', 'Maraichage'), ('Chefchaouen', 'Fourrageres'), ('Chefchaouen', 'Cereales'), ('Chefchaouen', 'Industrielles'), ('Chefchaouen', 'Legumineuses'), ('El Jadida', 'Rosacees'), ('El Jadida', 'Oliviers'), ('El Jadida', 'Vignes'), ('El Jadida', 'Maraichage'), ('El Jadida', 'Sucrieres'), ('El Jadida', 'Fourrageres'), ('El Jadida', 'Industrielles'), ('El Jadida', 'Cereales'), ('El Jadida', 'Oleagineuses'), ('El Jadida', 'Legumineuses')]\n"
     ]
    }
   ],
   "source": [
    "# Recettes\n",
    "data = pd.read_excel(open(file,'rb'), sheet_name=\"Recettes\")\n",
    "\n",
    "Province = pd.DataFrame(\n",
    "    data, columns=['Province']\n",
    ").values.tolist()\n",
    "\n",
    "\n",
    "Filiere = pd.DataFrame(\n",
    "    data, columns=['Filière']\n",
    ").values.tolist()\n",
    "\n",
    "Percentages = pd.DataFrame(\n",
    "    data, columns=['CAN', 'DURAMON 26%', 'DAP', 'EM', 'MAP', 'MOP', 'TSP']\n",
    ").values.tolist()\n",
    "\n",
    "engrais=[]\n",
    "MP=['CAN', 'DURAMON 26%', 'DAP', 'EM', 'MAP', 'MOP', 'TSP']\n",
    "Recettes = {}\n",
    "for i in range(0, len(Province)):\n",
    "    for j in range(len(MP)):\n",
    "        Recettes[MP[j],(Province[i][0], Filiere[i][0])] = Percentages[i][j]\n",
    "    engrais.append((Province[i][0], Filiere[i][0]))\n",
    "#---------------   \n",
    "print(engrais)\n",
    "\n"
   ]
  },
  {
   "cell_type": "markdown",
   "metadata": {},
   "source": [
    "Demande"
   ]
  },
  {
   "cell_type": "code",
   "execution_count": 4,
   "metadata": {},
   "outputs": [],
   "source": [
    "# Demande\n",
    "data = pd.read_excel(open(file,'rb'), sheet_name=\"Demande\")\n",
    "\n",
    "\n",
    "Province = pd.DataFrame(\n",
    "    data, columns=['Province']\n",
    ").values.tolist()\n",
    "\n",
    "\n",
    "Filiere = pd.DataFrame(\n",
    "    data, columns=['Filière']\n",
    ").values.tolist()\n",
    "\n",
    "Quantities = pd.DataFrame(\n",
    "    data, columns=['Q1','Q2','Q3','Q4']\n",
    ").values.tolist()\n",
    "\n",
    "\n",
    "Demande = {}\n",
    "for i in range(0, len(Province)):\n",
    "    Demande[(Province[i][0], Filiere[i][0]),'Q1'] = Quantities[i][0]\n",
    "    Demande[(Province[i][0], Filiere[i][0]),'Q2'] = Quantities[i][1]\n",
    "    Demande[(Province[i][0], Filiere[i][0]),'Q3'] = Quantities[i][2]\n",
    "    Demande[(Province[i][0], Filiere[i][0]),'Q4'] = Quantities[i][3]\n",
    "\n",
    "periode = ['Q1' #,'Q2','Q3','Q4'\n",
    "]"
   ]
  },
  {
   "cell_type": "markdown",
   "metadata": {},
   "source": [
    "Blenders"
   ]
  },
  {
   "cell_type": "code",
   "execution_count": 5,
   "metadata": {},
   "outputs": [],
   "source": [
    "# Blenders \n",
    "df1 = pd.read_excel(open(file,'rb'), sheet_name=\"Blenders\")\n",
    "L = []\n",
    "for i in range(0, len(df1.CapacitéB)):\n",
    "    L.append([df1.CapacitéB[i], df1.CapacitéSB[i]])\n",
    "Blenders = pd.Series(L, index=df1.Zone).to_dict()\n",
    "Blender = df1.Zone.tolist()"
   ]
  },
  {
   "cell_type": "markdown",
   "metadata": {},
   "source": [
    "Capacite source , Transport Amont et Aval"
   ]
  },
  {
   "cell_type": "code",
   "execution_count": 6,
   "metadata": {},
   "outputs": [],
   "source": [
    "# Capacite source , Transport Amont et Avale \n",
    "Data_to_extract = []\n",
    "def change_todict(df):\n",
    "    D = dict()\n",
    "    columns = df.columns\n",
    "    raws = df[columns[0]].to_numpy()\n",
    "    ma_liste = columns.tolist()\n",
    "    ma_liste.pop(0)\n",
    "    Data_to_extract.append(ma_liste)\n",
    "    for column in columns[1:]:\n",
    "        for raw in raws :\n",
    "            D[(column,raw)]=df[df[columns[0]]==raw][column].values[0]\n",
    "    return D\n",
    "\n",
    "df = pd.read_excel(open(file,'rb'),sheet_name = \"Capacité source\")\n",
    "CapaciteSource = change_todict(df)\n",
    "df = pd.read_excel(open(file,'rb'),sheet_name = \"Cout de transport  Amont\")\n",
    "CoutTransportAmont = change_todict(df)\n",
    "df = pd.read_excel(open(file,'rb'),sheet_name = \"Cout de transport aval\")\n",
    "CoutTransportAval = change_todict(df)\n",
    "#Supplier \n",
    "Supply = Data_to_extract[0]"
   ]
  },
  {
   "cell_type": "markdown",
   "metadata": {},
   "source": [
    "MP Stockage\n"
   ]
  },
  {
   "cell_type": "code",
   "execution_count": 7,
   "metadata": {},
   "outputs": [],
   "source": [
    "#MP  Stockage Options \n",
    "df = pd.read_excel(file,\"MP\",index_col=\"MP\")\n",
    "a=np.transpose(df)\n",
    "Mat_P = dict()\n",
    "for p in a:\n",
    "    Mat_P[p]=a[p].values[0]\n",
    "    \n",
    "df = pd.read_excel(file,\"Options\",index_col=\"Options\")\n",
    "a=np.transpose(df)\n",
    "Options = dict()\n",
    "for p in a:\n",
    "    Options[p]=a[p].values[0]\n",
    "    \n",
    "df = pd.read_excel(file,\"Stockage\",index_col=\"Province \")\n",
    "a=np.transpose(df)\n",
    "Stockage = dict()\n",
    "Stockage_MP = []\n",
    "for p in a:\n",
    "    Stockage_MP.append(p)\n",
    "    Stockage[p]=a[p].values[0]\n",
    "\n",
    "# stockage produits finis \n",
    "Stockage_engrais = Stockage_MP\n"
   ]
  },
  {
   "cell_type": "markdown",
   "metadata": {},
   "source": [
    "Affichage des Variables"
   ]
  },
  {
   "cell_type": "code",
   "execution_count": 8,
   "metadata": {
    "collapsed": true
   },
   "outputs": [
    {
     "name": "stdout",
     "output_type": "stream",
     "text": [
      "['OCP Jorf', 'OCP SAFI', 'OCP Port Casablanca', 'OCP Port Tanger', 'OCP Port Nador']\n",
      "['Agadir Ida-Outanane', 'Benslimane', 'Casablanca', 'Chefchaouen', 'El Jadida']\n",
      "['CAN', 'DURAMON 26%', 'DAP', 'EM', 'MAP', 'MOP', 'TSP']\n",
      "['Agadir Ida-Outanane', 'Benslimane', 'Casablanca', 'Chefchaouen', 'El Jadida']\n",
      "[('Agadir Ida-Outanane', 'Amandiers'), ('Agadir Ida-Outanane', 'Oliviers'), ('Agadir Ida-Outanane', 'Rosacees'), ('Agadir Ida-Outanane', 'Agrumes'), ('Agadir Ida-Outanane', 'Maraichage'), ('Agadir Ida-Outanane', 'Fourrageres'), ('Agadir Ida-Outanane', 'Cereales'), ('Benslimane', 'Rosacees'), ('Benslimane', 'Oliviers'), ('Benslimane', 'Vignes'), ('Benslimane', 'Maraichage'), ('Benslimane', 'Fourrageres'), ('Benslimane', 'Legumineuses'), ('Benslimane', 'Cereales'), ('Benslimane', 'Oleagineuses'), ('Casablanca', 'Rosacees'), ('Casablanca', 'Oliviers'), ('Casablanca', 'Maraichage'), ('Casablanca', 'Fourrageres'), ('Casablanca', 'Cereales'), ('Casablanca', 'Legumineuses'), ('Chefchaouen', 'Amandiers'), ('Chefchaouen', 'Oliviers'), ('Chefchaouen', 'Vignes'), ('Chefchaouen', 'Rosacees'), ('Chefchaouen', 'Maraichage'), ('Chefchaouen', 'Fourrageres'), ('Chefchaouen', 'Cereales'), ('Chefchaouen', 'Industrielles'), ('Chefchaouen', 'Legumineuses'), ('El Jadida', 'Rosacees'), ('El Jadida', 'Oliviers'), ('El Jadida', 'Vignes'), ('El Jadida', 'Maraichage'), ('El Jadida', 'Sucrieres'), ('El Jadida', 'Fourrageres'), ('El Jadida', 'Industrielles'), ('El Jadida', 'Cereales'), ('El Jadida', 'Oleagineuses'), ('El Jadida', 'Legumineuses')]\n",
      "['Agadir Ida-Outanane', 'Benslimane', 'Casablanca', 'Chefchaouen', 'El Jadida']\n",
      "['Q1']\n"
     ]
    }
   ],
   "source": [
    "# Affichage des differents variables\n",
    "print(Supply)\n",
    "print(Stockage_MP)\n",
    "print(MP)\n",
    "print(Blender)\n",
    "print(engrais)\n",
    "print(Stockage_engrais)\n",
    "print(periode)"
   ]
  },
  {
   "cell_type": "markdown",
   "metadata": {},
   "source": [
    "Creating Model"
   ]
  },
  {
   "cell_type": "code",
   "execution_count": 9,
   "metadata": {},
   "outputs": [
    {
     "name": "stdout",
     "output_type": "stream",
     "text": [
      "Set parameter Username\n",
      "Academic license - for non-commercial use only - expires 2022-06-12\n"
     ]
    }
   ],
   "source": [
    "model = gp.Model(\"Optimisation_Model\")"
   ]
  },
  {
   "cell_type": "markdown",
   "metadata": {},
   "source": [
    "FLows"
   ]
  },
  {
   "cell_type": "code",
   "execution_count": 10,
   "metadata": {},
   "outputs": [],
   "source": [
    "Flow_Supply_Blender =model.addVars(Supply, Blender, MP, periode,lb = 0,vtype = GRB.CONTINUOUS,name='Flow_Supply_Blender')   \n",
    "Flow_Supply_SBlender = model.addVars(Supply, Blender, MP, periode,lb = 0,vtype = GRB.CONTINUOUS,name='Flow_Supply_SBlender')   \n",
    "Flow_Supply_StorageMP = model.addVars(Supply, Stockage_MP, MP, periode,lb = 0,vtype = GRB.CONTINUOUS,name='Flow_Supply_StorageMP')\n",
    "Flow_StorageMP_Blender = model.addVars(Stockage_MP, Blender, MP, periode,lb = 0, vtype = GRB.CONTINUOUS,name='Flow_StorageMP_Blender')\n",
    "Flow_StorageMP_SBlender = model.addVars(Stockage_MP, Blender, MP, periode,lb = 0, vtype = GRB.CONTINUOUS,name='Flow_StorageMP_SBlender')\n",
    "Stock_MP = model.addVars(Stockage_MP, MP, periode,lb = 0,vtype = GRB.CONTINUOUS,name='Stock_MP')\n",
    "Flow_Blender_Province = model.addVars(Blender,engrais,periode,lb = 0,vtype = GRB.CONTINUOUS,name='Flow_Blender_Province')\n",
    "Flow_StorageFertlizer_Province = model.addVars(Stockage_engrais,engrais,periode,lb = 0,vtype = GRB.CONTINUOUS,name='Flow_StorageFertlizer_Province')\n",
    "Flow_SBlender_Province =model.addVars(Blender,engrais,periode,lb = 0,vtype = GRB.CONTINUOUS,name='Flow_SBlender_Province')\n",
    "Flow_Blender_StorageFertlizer =model.addVars(Blender,Stockage_engrais,engrais,periode,lb = 0,vtype = GRB.CONTINUOUS,name='Flow_Blender_StorageFertlizer')\n",
    "Flow_SBlender_StorageFertlizer  =model.addVars(Blender,Stockage_engrais,engrais,periode,lb = 0,vtype = GRB.CONTINUOUS,name='Flow_SBlender_StorageFertlizer')\n",
    "Stock_Fertlizer = model.addVars(Stockage_engrais, engrais, periode,lb = 0,vtype = GRB.CONTINUOUS,name='Stock_Fertlizer')\n",
    "Reliquat_Demand =  model.addVars(engrais, periode,lb = 0,vtype = GRB.CONTINUOUS,name='Reliquat_Demande')"
   ]
  },
  {
   "cell_type": "markdown",
   "metadata": {},
   "source": [
    "Objective Function"
   ]
  },
  {
   "cell_type": "code",
   "execution_count": 11,
   "metadata": {},
   "outputs": [],
   "source": [
    "model.setObjective(\n",
    "quicksum(Flow_Supply_Blender[s,b,m,t]*CoutTransportAmont[s,b] for s in Supply for b in Blender for m in MP for t in periode)+\n",
    "quicksum(Flow_Supply_SBlender[s,b,m,t]*CoutTransportAmont[s,b] for s in Supply for b in Blender for m in MP for t in periode)+\n",
    "quicksum(Flow_Supply_StorageMP[s,st,m,t]*CoutTransportAmont[s,st] for s in Supply for st in Stockage_MP for m in MP for t in periode)+\n",
    "quicksum(Flow_StorageMP_Blender[st,b,m,t]*CoutTransportAval[st,b] for st in Stockage_MP for b in Blender for m in MP for t in periode)+    \n",
    "quicksum(Flow_StorageMP_SBlender[st,b,m,t]*CoutTransportAval[st,b] for st in Stockage_MP for b in Blender for m in MP for t in periode)+    \n",
    "quicksum(Flow_Blender_Province[b,e[0],e[1],t]*(120+CoutTransportAval[b,e[0]]) for b in Blender for e in engrais for t in periode)+\n",
    "quicksum(Flow_SBlender_Province[b,e[0],e[1],t]*(260+CoutTransportAval[b,e[0]]) for b in Blender for e in engrais for t in periode)+\n",
    "quicksum(Flow_Blender_StorageFertlizer[b,se,e[0],e[1],t]*(120+CoutTransportAval[b,se]) for b in Blender for se in Stockage_engrais for e in engrais for t in periode)+\n",
    "quicksum(Flow_StorageFertlizer_Province[se,e[0],e[1],t]*CoutTransportAval[se,e[0]] for se in Stockage_engrais for e in engrais for t in periode)+\n",
    "quicksum(Reliquat_Demand[e[0],e[1],t]*Options['Cout_de_rupture'] for e in engrais for t in periode) +\n",
    "quicksum(Stock_MP[st,m,t]*Options['Cout_de_stockage_MP'] for st in Stockage_MP for m in MP for t in periode) +\n",
    "quicksum(Stock_Fertlizer[se,e[0],e[1],t]*Options['Cout_de_stockage_Engrais'] for se in Stockage_engrais for e in engrais for t in periode) +\n",
    "GRB.MINIMIZE)"
   ]
  },
  {
   "cell_type": "markdown",
   "metadata": {},
   "source": [
    "Constraints"
   ]
  },
  {
   "cell_type": "code",
   "execution_count": 12,
   "metadata": {},
   "outputs": [
    {
     "data": {
      "text/plain": [
       "'Satisfaction_Demande = model.addConstrs((gp.quicksum(Flow_StorageFertlizer_Province.select(\\'*\\',e[0],e[1],\\'Q1\\'))\\n                                         +gp.quicksum(Flow_Blender_Province.select(\\'*\\',e[0],e[1],\\'Q1\\'))\\n                                         +gp.quicksum(Flow_SBlender_Province.select(\\'*\\',e[0],e[1],\\'Q1\\')) \\n                                         <= Demande[e,\\'Q1\\'] for e in engrais), name=\"Satisfaction_Demande\")'"
      ]
     },
     "execution_count": 12,
     "metadata": {},
     "output_type": "execute_result"
    }
   ],
   "source": [
    "# Capacite Source\n",
    "Capacite_Source = model.addConstrs((gp.quicksum(Flow_Supply_Blender.select(s,'*',m,'Q1'))\n",
    "                                    +gp.quicksum(Flow_Supply_StorageMP.select(s,'*',m,'Q1'))\n",
    "                                    +gp.quicksum(Flow_Supply_SBlender.select(s,'*',m,'Q1')) \n",
    "                                    <= CapaciteSource[s,m] for s in Supply for m in MP), name=\"Capacite_Source\")\n",
    "\n",
    "# Stock_MP_conservation\n",
    "Stock_MP_conservation = model.addConstrs((Stock_MP[(st,m,'Q1')] == gp.quicksum(Flow_Supply_StorageMP.select('*',st,m,'Q1'))\n",
    "                                    -gp.quicksum(Flow_StorageMP_Blender.select(st,'*',m,'Q1'))\n",
    "                                    -gp.quicksum(Flow_StorageMP_SBlender.select(st,'*',m,'Q1'))\n",
    "                                    for st in Stockage_MP for m in MP), name=\"Stock_MP_conservation\")\n",
    "# Stock_fertilizer_conservation\n",
    "Stock_fertilizer_conservation = model.addConstrs((Stock_Fertlizer[(se,e[0],e[1],'Q1')] == \n",
    "                                    gp.quicksum(Flow_SBlender_StorageFertlizer.select('*',se,e[0],e[1],'Q1'))\n",
    "                                    +gp.quicksum(Flow_Blender_StorageFertlizer.select('*',se,e,'Q1'))\n",
    "                                    -Flow_StorageFertlizer_Province[(se,e[0],e[1],'Q1')]\n",
    "                                    for se in Stockage_engrais for e in engrais), name=\"Stock_fertilizer_conservation\")\n",
    "# Stock_Capacite\n",
    "Stock_Capacite = model.addConstrs((gp.quicksum(Stock_Fertlizer.select(se,'*','Q1')) \n",
    "                                   + gp.quicksum(Stock_MP.select(se,'*','Q1')) \n",
    "                                   <= Stockage[se] \n",
    "                                    for se in Stockage_engrais), name=\"Stock_Capacite\")\n",
    "\n",
    "# Blender_Capacite\n",
    "Blender_Capacite = model.addConstrs((gp.quicksum(Flow_Supply_Blender.select('*',b,'*','Q1')) \n",
    "                                   + gp.quicksum(Flow_StorageMP_Blender.select('*',b,'*','Q1')) \n",
    "                                   <= Blenders[b][0]\n",
    "                                    for b in Blender), name=\"Blender_Capacite\")\n",
    "\n",
    "# SBlender_Capacite \n",
    "SBlender_Capacite = model.addConstrs((gp.quicksum(Flow_Supply_SBlender.select('*',b,'*','Q1')) \n",
    "                                   + gp.quicksum(Flow_StorageMP_SBlender.select('*',b,'*','Q1')) \n",
    "                                   <= Blenders[b][1]\n",
    "                                    for b in Blender), name=\"SBlender_Capacite\")\n",
    "\n",
    "# Blender_Concervation \n",
    "Blender_Concervation = model.addConstrs((gp.quicksum(Flow_Supply_Blender.select('*',b,m,'Q1')) \n",
    "                                   + gp.quicksum(Flow_StorageMP_Blender.select('*',b,m,'Q1')) \n",
    "                            \n",
    "                                   == gp.quicksum(Flow_Blender_StorageFertlizer[b,se,e[0],e[1],'Q1']*Recettes[m,e] for e in engrais for se in Stockage_engrais)\n",
    "                                    + gp.quicksum(Flow_Blender_Province[b,e[0],e[1],'Q1']*Recettes[m,e] for e in engrais) \n",
    "                                         \n",
    "                                    for b in Blender for m in MP), name=\"Blender_Concervation\")\n",
    "# SBlender_Concervation \n",
    "SBlender_Concervation = model.addConstrs((gp.quicksum(Flow_Supply_SBlender.select('*',b,m,'Q1')) \n",
    "                                   + gp.quicksum(Flow_StorageMP_SBlender.select('*',b,m,'Q1')) \n",
    "                                   == gp.quicksum(Flow_SBlender_StorageFertlizer[b,se,e[0],e[1],'Q1']*Recettes[m,e] for e in engrais for se in Stockage_engrais)\n",
    "                                    + gp.quicksum(Flow_SBlender_Province[b,e[0],e[1],'Q1']*Recettes[m,e] for e in engrais) \n",
    "                                         \n",
    "                                    for b in Blender for m in MP), name=\"SBlender_Concervation\")\n",
    " \n",
    " # Satisfaction_reliquat\n",
    "Satisfaction_reliquat = model.addConstrs((Reliquat_Demand[e[0],e[1],'Q1'] ==\n",
    "                                          Demande[e,'Q1']\n",
    "                                         - gp.quicksum(Flow_StorageFertlizer_Province.select('*',e[0],e[1],'Q1')) \n",
    "                                         - gp.quicksum(Flow_Blender_Province.select('*',e[0],e[1],'Q1'))\n",
    "                                         - gp.quicksum(Flow_SBlender_Province.select('*',e[0],e[1],'Q1'))\n",
    "                                          for e in engrais), name=\"Satisfaction_reliquat\")\n",
    "\n",
    "# Satisfaction_Demande zaydaaaaa\n",
    "\"\"\"Satisfaction_Demande = model.addConstrs((gp.quicksum(Flow_StorageFertlizer_Province.select('*',e[0],e[1],'Q1'))\n",
    "                                         +gp.quicksum(Flow_Blender_Province.select('*',e[0],e[1],'Q1'))\n",
    "                                         +gp.quicksum(Flow_SBlender_Province.select('*',e[0],e[1],'Q1')) \n",
    "                                         <= Demande[e,'Q1'] for e in engrais), name=\"Satisfaction_Demande\")\"\"\"\n"
   ]
  },
  {
   "cell_type": "code",
   "execution_count": 13,
   "metadata": {},
   "outputs": [
    {
     "name": "stdout",
     "output_type": "stream",
     "text": [
      "Gurobi Optimizer version 9.5.1 build v9.5.1rc2 (win64)\n",
      "Thread count: 4 physical cores, 8 logical processors, using up to 8 threads\n",
      "Optimize a model with 395 rows, 3750 columns and 21360 nonzeros\n",
      "Model fingerprint: 0x22160733\n",
      "Coefficient statistics:\n",
      "  Matrix range     [2e-03, 1e+00]\n",
      "  Objective range  [1e+01, 1e+05]\n",
      "  Bounds range     [0e+00, 0e+00]\n",
      "  RHS range        [3e-02, 5e+08]\n",
      "Presolve removed 88 rows and 2396 columns\n",
      "Presolve time: 0.02s\n",
      "Presolved: 307 rows, 1354 columns, 6788 nonzeros\n",
      "\n",
      "Iteration    Objective       Primal Inf.    Dual Inf.      Time\n",
      "       0    7.0547275e+05   3.067303e+03   0.000000e+00      0s\n",
      "     360    6.0785453e+08   0.000000e+00   0.000000e+00      0s\n",
      "\n",
      "Solved in 360 iterations and 0.03 seconds (0.01 work units)\n",
      "Optimal objective  6.078545318e+08\n"
     ]
    }
   ],
   "source": [
    "model.optimize()"
   ]
  },
  {
   "cell_type": "code",
   "execution_count": 14,
   "metadata": {},
   "outputs": [
    {
     "name": "stdout",
     "output_type": "stream",
     "text": [
      "Warning: variable name \"Flow_Supply_Blender[OCP Jorf,Agadir Ida-Outanane,CAN,Q1]\" has a space\n",
      "Warning: default variable names used to write solution file\n"
     ]
    }
   ],
   "source": [
    "model.write(\"Hamza.sol\")"
   ]
  },
  {
   "cell_type": "code",
   "execution_count": 15,
   "metadata": {},
   "outputs": [
    {
     "name": "stdout",
     "output_type": "stream",
     "text": [
      "<gurobi.Var Flow_Supply_Blender[OCP Jorf,El Jadida,DAP,Q1] (value 1896.4822571765078)>\n",
      "<gurobi.Var Flow_Supply_Blender[OCP Jorf,El Jadida,EM,Q1] (value 1282.9144680899906)>\n",
      "<gurobi.Var Flow_Supply_Blender[OCP Jorf,El Jadida,MAP,Q1] (value 440.95343296600856)>\n",
      "<gurobi.Var Flow_Supply_Blender[OCP SAFI,Agadir Ida-Outanane,TSP,Q1] (value 11.034143697643206)>\n",
      "<gurobi.Var Flow_Supply_Blender[OCP SAFI,Casablanca,TSP,Q1] (value 450.76898149123804)>\n",
      "<gurobi.Var Flow_Supply_Blender[OCP SAFI,El Jadida,TSP,Q1] (value 782.1175841794715)>\n",
      "<gurobi.Var Flow_Supply_Blender[OCP Port Casablanca,Agadir Ida-Outanane,CAN,Q1] (value 6.924444599357274)>\n",
      "<gurobi.Var Flow_Supply_Blender[OCP Port Casablanca,Agadir Ida-Outanane,DURAMON 26%,Q1] (value 7.790000174276933)>\n",
      "<gurobi.Var Flow_Supply_Blender[OCP Port Casablanca,Agadir Ida-Outanane,MOP,Q1] (value 28.58805877115835)>\n",
      "<gurobi.Var Flow_Supply_Blender[OCP Port Casablanca,Casablanca,CAN,Q1] (value 1349.4619723993774)>\n",
      "<gurobi.Var Flow_Supply_Blender[OCP Port Casablanca,Casablanca,DURAMON 26%,Q1] (value 1518.1447189492997)>\n",
      "<gurobi.Var Flow_Supply_Blender[OCP Port Casablanca,Casablanca,MOP,Q1] (value 774.1699598775643)>\n",
      "<gurobi.Var Flow_Supply_Blender[OCP Port Casablanca,El Jadida,CAN,Q1] (value 2869.7838049428674)>\n",
      "<gurobi.Var Flow_Supply_Blender[OCP Port Casablanca,El Jadida,DURAMON 26%,Q1] (value 3228.506780560726)>\n",
      "<gurobi.Var Flow_Supply_Blender[OCP Port Casablanca,El Jadida,MOP,Q1] (value 1499.241672084429)>\n"
     ]
    }
   ],
   "source": [
    "for s in Supply:\n",
    "    for b in Blender:\n",
    "        for m in MP:\n",
    "            for t in ['Q1']:\n",
    "                if Flow_Supply_Blender[s,b,m,t].X !=0:\n",
    "                    print(Flow_Supply_Blender[s,b,m,t])"
   ]
  },
  {
   "cell_type": "code",
   "execution_count": 16,
   "metadata": {},
   "outputs": [
    {
     "data": {
      "text/plain": [
       "'import xlsxwriter\\ndef to_excel(name,lists,var):\\n    row = 0\\n    col = 0\\n    workbook = xlsxwriter.Workbook(\\'Example3.xlsx\\')\\n    worksheet = workbook.add_worksheet(name)\\n    for     \\nto_excel(\"Flow_Supply_Blender\",[Supply,Blender,MP,periode],Flow_Supply_Blender)\\n'"
      ]
     },
     "execution_count": 16,
     "metadata": {},
     "output_type": "execute_result"
    }
   ],
   "source": [
    "#! pip install xlsxwriter\n",
    "\n",
    "\"\"\"import xlsxwriter\n",
    "def to_excel(name,lists,var):\n",
    "    row = 0\n",
    "    col = 0\n",
    "    workbook = xlsxwriter.Workbook('Example3.xlsx')\n",
    "    worksheet = workbook.add_worksheet(name)\n",
    "    for     \n",
    "to_excel(\"Flow_Supply_Blender\",[Supply,Blender,MP,periode],Flow_Supply_Blender)\n",
    "\"\"\""
   ]
  },
  {
   "cell_type": "code",
   "execution_count": null,
   "metadata": {},
   "outputs": [],
   "source": []
  }
 ],
 "metadata": {
  "interpreter": {
   "hash": "3945ba06326ecef6f0490ca6e108e29f3b3267bcf9860abd4a445551ca0ec542"
  },
  "kernelspec": {
   "display_name": "Python 3.8.8 ('SKlearn')",
   "language": "python",
   "name": "python3"
  },
  "language_info": {
   "codemirror_mode": {
    "name": "ipython",
    "version": 3
   },
   "file_extension": ".py",
   "mimetype": "text/x-python",
   "name": "python",
   "nbconvert_exporter": "python",
   "pygments_lexer": "ipython3",
   "version": "3.8.8"
  }
 },
 "nbformat": 4,
 "nbformat_minor": 2
}
